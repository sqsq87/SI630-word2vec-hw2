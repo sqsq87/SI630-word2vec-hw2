{
 "cells": [
  {
   "cell_type": "code",
   "execution_count": 2,
   "metadata": {},
   "outputs": [],
   "source": [
    "from gensim.models import KeyedVectors\n",
    "from gensim.test.utils import datapath"
   ]
  },
  {
   "cell_type": "code",
   "execution_count": 5,
   "metadata": {},
   "outputs": [],
   "source": [
    "word_vectors = KeyedVectors.load_word2vec_format('trained_vector.txt', binary=False)\n",
    "word_vectors_syn = KeyedVectors.load_word2vec_format('trained_vector_synonym.txt', binary=False)"
   ]
  },
  {
   "cell_type": "code",
   "execution_count": 16,
   "metadata": {},
   "outputs": [
    {
     "data": {
      "text/plain": [
       "[('prerequisites', 0.8233563899993896),\n",
       " ('inclinations', 0.8157572746276855),\n",
       " ('piety', 0.8118311762809753),\n",
       " ('reverence', 0.8118261098861694),\n",
       " ('imbibed', 0.808815062046051),\n",
       " ('intellectualism', 0.806359052658081),\n",
       " ('irrevocably', 0.8047645092010498),\n",
       " ('recant', 0.7963510155677795),\n",
       " ('endeavor', 0.7948508858680725),\n",
       " ('fulfilment', 0.7947119474411011)]"
      ]
     },
     "execution_count": 16,
     "metadata": {},
     "output_type": "execute_result"
    }
   ],
   "source": [
    "word_vectors.similar_by_word(\"vocation\")"
   ]
  },
  {
   "cell_type": "code",
   "execution_count": 17,
   "metadata": {},
   "outputs": [
    {
     "data": {
      "text/plain": [
       "[('career', 0.865314781665802),\n",
       " ('calling', 0.8532299399375916),\n",
       " ('Background', 0.6759084463119507),\n",
       " ('Playing', 0.6177643537521362),\n",
       " ('Coaching', 0.610306978225708),\n",
       " ('CBE', 0.609614908695221),\n",
       " ('Tamaulipas', 0.6057261228561401),\n",
       " ('Lerner', 0.5994564294815063),\n",
       " ('Cricket', 0.5841864347457886),\n",
       " ('Club', 0.5831999778747559)]"
      ]
     },
     "execution_count": 17,
     "metadata": {},
     "output_type": "execute_result"
    }
   ],
   "source": [
    "word_vectors_syn.similar_by_word(\"vocation\")"
   ]
  },
  {
   "cell_type": "code",
   "execution_count": 18,
   "metadata": {},
   "outputs": [
    {
     "data": {
      "text/plain": [
       "[('adviser', 0.8249616622924805),\n",
       " ('economist', 0.7570538520812988),\n",
       " ('INSA', 0.7522871494293213),\n",
       " ('researcher', 0.7316626310348511),\n",
       " ('chief', 0.7193649411201477),\n",
       " ('scientist', 0.7175025939941406),\n",
       " ('statistician', 0.7067714929580688),\n",
       " ('ethnological', 0.7045462131500244),\n",
       " ('Hessa', 0.7002547979354858),\n",
       " ('Mehrishi', 0.6992570161819458)]"
      ]
     },
     "execution_count": 18,
     "metadata": {},
     "output_type": "execute_result"
    }
   ],
   "source": [
    "word_vectors.similar_by_word(\"advisor\")"
   ]
  },
  {
   "cell_type": "code",
   "execution_count": 19,
   "metadata": {},
   "outputs": [
    {
     "data": {
      "text/plain": [
       "[('consultant', 0.888713002204895),\n",
       " ('adviser', 0.8387628197669983),\n",
       " ('Assistant', 0.675558865070343),\n",
       " ('Internal', 0.6680094003677368),\n",
       " ('Editor', 0.6627853512763977),\n",
       " ('Justice', 0.6615033745765686),\n",
       " ('Commerce', 0.6614713072776794),\n",
       " ('Policy', 0.658858060836792),\n",
       " ('accessory', 0.655198872089386),\n",
       " ('Clinical', 0.6520965099334717)]"
      ]
     },
     "execution_count": 19,
     "metadata": {},
     "output_type": "execute_result"
    }
   ],
   "source": [
    "word_vectors_syn.similar_by_word(\"advisor\")"
   ]
  },
  {
   "cell_type": "code",
   "execution_count": 20,
   "metadata": {},
   "outputs": [
    {
     "data": {
      "text/plain": [
       "[('Sefer', 0.7002090215682983),\n",
       " ('YOU', 0.6888709664344788),\n",
       " ('Bhagavad', 0.6852923631668091),\n",
       " ('Vendôme', 0.6836792826652527),\n",
       " ('nicht', 0.6787155270576477),\n",
       " ('Kirche', 0.6786268949508667),\n",
       " ('Bingen', 0.6768293380737305),\n",
       " ('ba', 0.6744521260261536),\n",
       " ('Adda', 0.6736612319946289),\n",
       " ('Rijn', 0.6681785583496094)]"
      ]
     },
     "execution_count": 20,
     "metadata": {},
     "output_type": "execute_result"
    }
   ],
   "source": [
    "word_vectors.similar_by_word(\"die\")"
   ]
  },
  {
   "cell_type": "code",
   "execution_count": 21,
   "metadata": {},
   "outputs": [
    {
     "data": {
      "text/plain": [
       "[('perish', 0.846362829208374),\n",
       " ('exit', 0.8302855491638184),\n",
       " ('expire', 0.7911310195922852),\n",
       " ('choke', 0.7716532349586487),\n",
       " ('Nibelungen', 0.7007843255996704),\n",
       " ('Bodyline', 0.6602303981781006),\n",
       " ('Krejčíková', 0.6550697088241577),\n",
       " ('Uma', 0.6495055556297302),\n",
       " ('dreary', 0.6426095962524414),\n",
       " ('if', 0.6351494789123535)]"
      ]
     },
     "execution_count": 21,
     "metadata": {},
     "output_type": "execute_result"
    }
   ],
   "source": [
    "word_vectors_syn.similar_by_word(\"die\")"
   ]
  },
  {
   "cell_type": "code",
   "execution_count": 22,
   "metadata": {},
   "outputs": [
    {
     "data": {
      "text/plain": [
       "[('forty', 0.839396595954895),\n",
       " ('five', 0.7634023427963257),\n",
       " ('nineteen', 0.7439690828323364),\n",
       " ('two', 0.7439565658569336),\n",
       " ('twelve', 0.7374639511108398),\n",
       " ('fifteen', 0.7328503131866455),\n",
       " ('eighty', 0.7328100204467773),\n",
       " ('eleven', 0.7300284504890442),\n",
       " ('fourteen', 0.7289317846298218),\n",
       " ('six', 0.7285114526748657)]"
      ]
     },
     "execution_count": 22,
     "metadata": {},
     "output_type": "execute_result"
    }
   ],
   "source": [
    "word_vectors.similar_by_word(\"ten\")"
   ]
  },
  {
   "cell_type": "code",
   "execution_count": 23,
   "metadata": {},
   "outputs": [
    {
     "data": {
      "text/plain": [
       "[('decade', 0.8107796311378479),\n",
       " ('10', 0.7953133583068848),\n",
       " ('719', 0.7661923170089722),\n",
       " ('6', 0.7541136145591736),\n",
       " ('348', 0.7443172931671143),\n",
       " ('237', 0.738518476486206),\n",
       " ('11', 0.7367497086524963),\n",
       " ('258', 0.7311567068099976),\n",
       " ('285', 0.730393648147583),\n",
       " ('670', 0.7301467657089233)]"
      ]
     },
     "execution_count": 23,
     "metadata": {},
     "output_type": "execute_result"
    }
   ],
   "source": [
    "word_vectors_syn.similar_by_word(\"ten\")"
   ]
  },
  {
   "cell_type": "code",
   "execution_count": 24,
   "metadata": {},
   "outputs": [
    {
     "data": {
      "text/plain": [
       "[('Bucer', 0.7610359191894531),\n",
       " ('Sertorius', 0.7558284401893616),\n",
       " ('Nurhaci', 0.7505505084991455),\n",
       " ('alms', 0.7501428127288818),\n",
       " ('virginity', 0.7496191263198853),\n",
       " ('stammer', 0.7477184534072876),\n",
       " ('Arianism', 0.7467020750045776),\n",
       " ('unfounded', 0.7456619739532471),\n",
       " ('bargains', 0.7444959878921509),\n",
       " ('Arius', 0.7433899641036987)]"
      ]
     },
     "execution_count": 24,
     "metadata": {},
     "output_type": "execute_result"
    }
   ],
   "source": [
    "word_vectors.similar_by_word(\"however\")"
   ]
  },
  {
   "cell_type": "code",
   "execution_count": 25,
   "metadata": {},
   "outputs": [
    {
     "data": {
      "text/plain": [
       "[('nonetheless', 0.7945919036865234),\n",
       " ('nevertheless', 0.7935124039649963),\n",
       " ('notwithstanding', 0.7898233532905579),\n",
       " ('yet', 0.7674560546875),\n",
       " ('stutter', 0.7492031455039978),\n",
       " ('stammer', 0.744091808795929),\n",
       " ('imperious', 0.7124859094619751),\n",
       " ('Yamaguchi', 0.7095609903335571),\n",
       " ('unsavory', 0.7061512470245361),\n",
       " ('disturbed', 0.7060285806655884)]"
      ]
     },
     "execution_count": 25,
     "metadata": {},
     "output_type": "execute_result"
    }
   ],
   "source": [
    "word_vectors_syn.similar_by_word(\"however\")"
   ]
  },
  {
   "cell_type": "markdown",
   "metadata": {},
   "source": [
    "I have chosen some frequent words appearing in the 'synonyms.txt'. From the result, I think that the new model gives more reasonable nearest neighbours. It is because the nearest neighbours of these words according to the new model are mostly its synonyms, while according to the original model, it is hard to find any pattern or rule in the neighboring words."
   ]
  }
 ],
 "metadata": {
  "kernelspec": {
   "display_name": "Python 3",
   "language": "python",
   "name": "python3"
  },
  "language_info": {
   "codemirror_mode": {
    "name": "ipython",
    "version": 3
   },
   "file_extension": ".py",
   "mimetype": "text/x-python",
   "name": "python",
   "nbconvert_exporter": "python",
   "pygments_lexer": "ipython3",
   "version": "3.8.5"
  }
 },
 "nbformat": 4,
 "nbformat_minor": 4
}
